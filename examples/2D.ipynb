{
 "cells": [
  {
   "cell_type": "code",
   "execution_count": 1,
   "metadata": {
    "collapsed": false
   },
   "outputs": [
    {
     "data": {
      "application/javascript": [
       "//Imports the javascript code - not required if the extensions are already installed\n",
       "require(['source/molviz2d.js','source/d3.v3.min.js'],function(){console.log('done importing js libraries')})"
      ],
      "text/plain": [
       "<IPython.core.display.Javascript object>"
      ]
     },
     "metadata": {},
     "output_type": "display_data"
    }
   ],
   "source": [
    "%%javascript\n",
    "//Imports the javascript code - not required if the extensions are already installed\n",
    "require(['source/molviz2d.js','source/d3.v3.min.js'],function(){console.log('done importing js libraries')})"
   ]
  },
  {
   "cell_type": "code",
   "execution_count": 2,
   "metadata": {
    "collapsed": false
   },
   "outputs": [
    {
     "name": "stderr",
     "output_type": "stream",
     "text": [
      "WARNING:root:libint extension not found, switching to normal ERI computation\n"
     ]
    }
   ],
   "source": [
    "import ipywidgets as ipy\n",
    "from py3dmol import widget2d as m2d"
   ]
  },
  {
   "cell_type": "code",
   "execution_count": 3,
   "metadata": {
    "collapsed": false
   },
   "outputs": [],
   "source": [
    "\"\"\"setup\"\"\"\n",
    "viz = m2d.AlwaysBenzene(None)\n",
    "viz"
   ]
  },
  {
   "cell_type": "code",
   "execution_count": 6,
   "metadata": {
    "collapsed": false
   },
   "outputs": [],
   "source": [
    "\"\"\"Make it clickable\"\"\"\n",
    "tb = ipy.Textarea(value='no clicks yet')\n",
    "def click_callback(trait_name,old,new):\n",
    "    tb.value = 'Clicked atom index:'+str(new)\n",
    "viz.set_click_callback(click_callback)\n",
    "tb"
   ]
  }
 ],
 "metadata": {
  "kernelspec": {
   "display_name": "Python 2",
   "language": "python",
   "name": "python2"
  },
  "language_info": {
   "codemirror_mode": {
    "name": "ipython",
    "version": 2
   },
   "file_extension": ".py",
   "mimetype": "text/x-python",
   "name": "python",
   "nbconvert_exporter": "python",
   "pygments_lexer": "ipython2",
   "version": "2.7.9"
  }
 },
 "nbformat": 4,
 "nbformat_minor": 0
}
