{
 "cells": [
  {
   "cell_type": "code",
   "execution_count": null,
   "metadata": {
    "collapsed": true
   },
   "outputs": [],
   "source": [
    "import MDAnalysis as mda"
   ]
  },
  {
   "cell_type": "code",
   "execution_count": null,
   "metadata": {
    "collapsed": true
   },
   "outputs": [],
   "source": [
    "structure = \"1UBQ.pdb\""
   ]
  },
  {
   "cell_type": "code",
   "execution_count": null,
   "metadata": {
    "collapsed": false
   },
   "outputs": [],
   "source": [
    "ubiquitin = mda.Universe(structure)"
   ]
  },
  {
   "cell_type": "code",
   "execution_count": null,
   "metadata": {
    "collapsed": false
   },
   "outputs": [],
   "source": [
    "#polar donor clash (2.750 Å) ARG A 42 NE ↔ GLN A 49 NE2\n",
    "gln49 = ubiquitin.select_atoms('resid 49')\n",
    "arg42 = ubiquitin.select_atoms('resid 42')\n",
    "#polar acceptor clash (3.035 Å) MET A 1 O ↔ VAL A 17 O\n",
    "met1 = ubiquitin.select_atoms('resid 1')\n",
    "val17 = ubiquitin.select_atoms('resid 17')"
   ]
  },
  {
   "cell_type": "code",
   "execution_count": null,
   "metadata": {
    "collapsed": false
   },
   "outputs": [],
   "source": []
  },
  {
   "cell_type": "code",
   "execution_count": null,
   "metadata": {
    "collapsed": false
   },
   "outputs": [],
   "source": [
    "import MDAnalysis.topology.tables as tables\n",
    "import MDAnalysis.lib.distances as distances\n"
   ]
  },
  {
   "cell_type": "code",
   "execution_count": null,
   "metadata": {
    "collapsed": false
   },
   "outputs": [],
   "source": [
    "tables.vdwradii"
   ]
  },
  {
   "cell_type": "code",
   "execution_count": null,
   "metadata": {
    "collapsed": false
   },
   "outputs": [],
   "source": [
    "#takes atoms = AtomGroup.atoms, positions = AtomGroup.atoms.positions\n",
    "#For detecting clashes, cutoff values of 0.4-1.0 Å and allowance values of 0.2-0.6 Å are generally reasonable.\n",
    "\n",
    "def check_for_clashes(atoms, cutoff=0.6, allowance=0.4, vdwradii=None):\n",
    "\n",
    "    clashes = set()\n",
    "    positions = atoms.positions\n",
    "    \n",
    "    assert len([a for a in atoms if a]) == positions.shape[0]\n",
    "\n",
    "    if not vdwradii:\n",
    "        vdwradii = tables.vdwradii\n",
    "        \n",
    "    for a in atoms:\n",
    "        if not a.type in vdwradii.keys(): \n",
    "            print a.type + \" has no defined vdw radius\"\n",
    "            return clashes\n",
    "\n",
    "    # 1-D vector of the upper-triangle of all-to-all distance matrix    \n",
    "    dist = distances.self_distance_array(positions)\n",
    "    N = len(positions)\n",
    "    \n",
    "    pairs = list()\n",
    "    [[pairs.append((i,j)) for j in range(i + 1, N)] for i in range(N)]\n",
    "       \n",
    "    for x, (d, (i, j)) in enumerate(zip(dist, pairs)):\n",
    "        a1, a2 = atoms[i], atoms[j]\n",
    "        r1, r2 = vdwradii[a1.type], vdwradii[a2.type]\n",
    "        overlap = (r1 + r2) - dist[x] - allowance\n",
    "        print overlap, r1, r2, dist[x], allowance, cutoff\n",
    "        if not overlap >= cutoff : continue\n",
    "        print \"CLASH\", overlap, dist[x], a1, a2\n",
    "        clashes.add(frozenset([i+1,j+1]))\n",
    "\n",
    "    return clashes"
   ]
  },
  {
   "cell_type": "code",
   "execution_count": null,
   "metadata": {
    "collapsed": true
   },
   "outputs": [],
   "source": [
    "def print_clash(atoms, clashes):\n",
    "    a1 = atoms[i]\n",
    "    a2 = atoms[j]\n",
    "    "
   ]
  },
  {
   "cell_type": "code",
   "execution_count": null,
   "metadata": {
    "collapsed": false
   },
   "outputs": [],
   "source": [
    "clashes  = set()\n",
    "clashes.add([1, 8])"
   ]
  },
  {
   "cell_type": "code",
   "execution_count": null,
   "metadata": {
    "collapsed": false
   },
   "outputs": [],
   "source": [
    "ind = clashes.pop()"
   ]
  },
  {
   "cell_type": "code",
   "execution_count": null,
   "metadata": {
    "collapsed": false
   },
   "outputs": [],
   "source": [
    "clashes"
   ]
  },
  {
   "cell_type": "code",
   "execution_count": null,
   "metadata": {
    "collapsed": false
   },
   "outputs": [],
   "source": [
    "notbb = ubiquitin.select_atoms(\"not backbone\")"
   ]
  },
  {
   "cell_type": "code",
   "execution_count": null,
   "metadata": {
    "collapsed": false
   },
   "outputs": [],
   "source": [
    "val17 = ubiquitin.select_atoms('resid 17')\n",
    "met1 = ubiquitin.select_atoms('resid 1')\n",
    "clash1 = met1+val17\n",
    "gln49 = ubiquitin.select_atoms('resid 49')\n",
    "arg42 = ubiquitin.select_atoms('resid 42')\n",
    "clash2 = arg42+gln49"
   ]
  },
  {
   "cell_type": "code",
   "execution_count": null,
   "metadata": {
    "collapsed": false
   },
   "outputs": [],
   "source": [
    "clash1.select_atoms(\"not backbone\")"
   ]
  },
  {
   "cell_type": "code",
   "execution_count": null,
   "metadata": {
    "collapsed": false
   },
   "outputs": [],
   "source": [
    "check_for_clashes(clash2, 0.0, 0.0)"
   ]
  },
  {
   "cell_type": "code",
   "execution_count": null,
   "metadata": {
    "collapsed": false
   },
   "outputs": [],
   "source": [
    "clash2"
   ]
  },
  {
   "cell_type": "code",
   "execution_count": null,
   "metadata": {
    "collapsed": false
   },
   "outputs": [],
   "source": [
    "import mdanalysis_3dmol as m3d"
   ]
  },
  {
   "cell_type": "code",
   "execution_count": null,
   "metadata": {
    "collapsed": false
   },
   "outputs": [],
   "source": [
    "viz = m3d.JS3DMol(ubiquitin)\n",
    "viz.set_style('cartoon')"
   ]
  },
  {
   "cell_type": "code",
   "execution_count": null,
   "metadata": {
    "collapsed": false
   },
   "outputs": [],
   "source": [
    "viz.set_style('sphere',clash2,spec={'color':'red'})"
   ]
  },
  {
   "cell_type": "code",
   "execution_count": null,
   "metadata": {
    "collapsed": false
   },
   "outputs": [],
   "source": [
    "clash2.indices"
   ]
  },
  {
   "cell_type": "code",
   "execution_count": null,
   "metadata": {
    "collapsed": true
   },
   "outputs": [],
   "source": []
  }
 ],
 "metadata": {
  "kernelspec": {
   "display_name": "Python 2",
   "language": "python",
   "name": "python2"
  },
  "language_info": {
   "codemirror_mode": {
    "name": "ipython",
    "version": 2
   },
   "file_extension": ".py",
   "mimetype": "text/x-python",
   "name": "python",
   "nbconvert_exporter": "python",
   "pygments_lexer": "ipython2",
   "version": "2.7.9"
  }
 },
 "nbformat": 4,
 "nbformat_minor": 0
}
