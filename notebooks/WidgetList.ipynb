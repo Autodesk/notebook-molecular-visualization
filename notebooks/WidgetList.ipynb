{
 "cells": [
  {
   "cell_type": "markdown",
   "metadata": {},
   "source": [
    "# Widgets"
   ]
  },
  {
   "cell_type": "code",
   "execution_count": null,
   "metadata": {},
   "outputs": [],
   "source": [
    "import moldesign as mdt\n",
    "import nbmolviz"
   ]
  },
  {
   "cell_type": "code",
   "execution_count": null,
   "metadata": {},
   "outputs": [],
   "source": [
    "small_molecule = mdt.from_name('butadiene')\n",
    "protein = mdt.from_pdb('3aid')"
   ]
  },
  {
   "cell_type": "markdown",
   "metadata": {},
   "source": [
    "## Small molecule visualizer\n",
    "\n",
    "Clicking on an atom in 2D or 3D will select the atoms in *both* 2D and 3D. It will also print out information about the atom in a widget below the viewers.\n",
    "\n",
    "Constructor: `moldesign.molecules.atomcollections.AtomContainer.draw()`\n",
    "\n",
    "Class definition: `moldesign.display.selector.SelectionGroup`"
   ]
  },
  {
   "cell_type": "code",
   "execution_count": null,
   "metadata": {},
   "outputs": [],
   "source": [
    "small_molecule.draw()"
   ]
  },
  {
   "cell_type": "markdown",
   "metadata": {},
   "source": [
    "## Large molecule visualizer\n",
    "\n",
    "Same as small molecule visualizer, but doesn't display a 2D representation.\n",
    "\n",
    "Constructor: `moldesign.molecules.atomcollections.AtomContainer.draw()`\n",
    "\n",
    "Class definition: `moldesign.display.selector.SelectionGroup`"
   ]
  },
  {
   "cell_type": "code",
   "execution_count": null,
   "metadata": {},
   "outputs": [],
   "source": [
    "viewer = protein.draw()\n",
    "viewer"
   ]
  },
  {
   "cell_type": "code",
   "execution_count": null,
   "metadata": {},
   "outputs": [],
   "source": [
    "viewer.sphere()"
   ]
  },
  {
   "cell_type": "markdown",
   "metadata": {},
   "source": [
    "## Symmetrizer\n",
    "\n",
    "Visually depicts \"symmetry groups\" like mirror planes and rotational symmetries.\n",
    "\n",
    "It shows exact symmetries and approximate ones. Users can impose an exact symmetry with the \"Symmetrize\" button.\n",
    "\n",
    "When first called, and whenever the molecular position changes due to a \"Symmetrize\" operation, we call a docker container called \"symmol\" to actually calculate the symmetries.\n",
    "\n",
    "Class definition: `moldesign.widgets.symmetry.Symmetrizer`"
   ]
  },
  {
   "cell_type": "code",
   "execution_count": null,
   "metadata": {},
   "outputs": [],
   "source": [
    "mdt.widgets.Symmetrizer(small_molecule)"
   ]
  },
  {
   "cell_type": "markdown",
   "metadata": {},
   "source": [
    "## ResidueSelector\n",
    "\n",
    "This widget allows users to build a selection of atoms and/or residues visually, then pull the results into their python script.\n",
    "\n",
    "Class definition: `moldesign.widgets.selection.ResidueSelector`"
   ]
  },
  {
   "cell_type": "code",
   "execution_count": null,
   "metadata": {},
   "outputs": [],
   "source": [
    "residue_selector = mdt.widgets.ResidueSelector(protein)\n",
    "residue_selector"
   ]
  },
  {
   "cell_type": "code",
   "execution_count": null,
   "metadata": {},
   "outputs": [],
   "source": [
    "residue_selector.selected_atoms"
   ]
  },
  {
   "cell_type": "markdown",
   "metadata": {},
   "source": [
    "## Bond Selector\n",
    "\n",
    "This allows users to build selections of atoms, bonds or both, usually with small molecules. It's similar to ResidueSelector, but aimed at smaller molecules.\n",
    "\n",
    "Out of the box, 3DMol.js doesn't give us much control over bonds. This widget is built on a hacked Viewer class - `moldesign.viewer.bondclicker.BondClicker` - that allows us to set custom bond colors and register callbacks from clicks on bonds.\n",
    "\n",
    "Class definition: `moldesign.widgets.selection.BondSelector`"
   ]
  },
  {
   "cell_type": "code",
   "execution_count": null,
   "metadata": {},
   "outputs": [],
   "source": [
    "bondselector = mdt.widgets.BondSelector(small_molecule)\n",
    "bondselector"
   ]
  },
  {
   "cell_type": "markdown",
   "metadata": {},
   "source": [
    "The currently selected atoms and bonds here can be accessed in python code:"
   ]
  },
  {
   "cell_type": "code",
   "execution_count": null,
   "metadata": {},
   "outputs": [],
   "source": [
    "print(bondselector.selected_bonds)"
   ]
  },
  {
   "cell_type": "code",
   "execution_count": null,
   "metadata": {},
   "outputs": [],
   "source": [
    "bondselector.selected_atoms"
   ]
  },
  {
   "cell_type": "markdown",
   "metadata": {},
   "source": [
    "## Geometry Builder\n",
    "\n",
    "This widget also uses the `BondClicker` class to allow us to select bonds. `BondClicker` is very slow to redraw, however, so this widget ends up feeling pretty clunky.\n",
    "\n",
    "The UI here is also pretty bad - selecting a dihedral angle to change requires selecting 4 atoms or 3 bonds, which tends to get confusing fast.\n",
    "\n",
    "Class definition: `moldesign.widgets.geombuilder.GeometryBuilder`"
   ]
  },
  {
   "cell_type": "code",
   "execution_count": null,
   "metadata": {},
   "outputs": [],
   "source": [
    "mdt.widgets.GeometryBuilder(small_molecule)"
   ]
  },
  {
   "cell_type": "markdown",
   "metadata": {},
   "source": [
    "## Orbital visualizer\n",
    "\n",
    "The orbitals need to be calculated before they can be visualized - we'll do that here:\n",
    "\n",
    "Class definition: `moldesign.widgets.orbgitals.OrbitalViewer`\n",
    "\n",
    "Usually constructed using `moldesign.molecules.molecule.MolDrawingMixin.draw_orbitals()`"
   ]
  },
  {
   "cell_type": "code",
   "execution_count": null,
   "metadata": {},
   "outputs": [],
   "source": [
    "small_molecule.set_energy_model(mdt.models.RHF, basis='sto-3g')\n",
    "small_molecule.calculate()"
   ]
  },
  {
   "cell_type": "code",
   "execution_count": null,
   "metadata": {},
   "outputs": [],
   "source": [
    "small_molecule.draw_orbitals()"
   ]
  },
  {
   "cell_type": "markdown",
   "metadata": {},
   "source": [
    "To draw the orbitals, python generates a \"Gaussian Cube File\" containing 3D information that it passes to JavaScript (this can be slow, especially it needs to run in a Docker container). To draw the orbitals, we pass the cube file to the `glviewer.AddIsoSurface` method."
   ]
  },
  {
   "cell_type": "markdown",
   "metadata": {},
   "source": [
    "### Trajectory Viewer\n",
    "\n",
    "Trajectory animations are drawn using the  class, but users will usually draw one by calling `trajectory.draw()`.\n",
    "\n",
    "Here, we'll create a trajectory by messing with our small molecule's internal geometry. This will take a second because we'll calculate the electronic wavefunction every step of the way.\n",
    "\n",
    "Class definition: `moldesign.widgets.trajectory.TrajectoryViewer`\n",
    "\n",
    "Usually constructed with: `moldesign.molecules.trajectory.Trajectory.draw()`"
   ]
  },
  {
   "cell_type": "code",
   "execution_count": null,
   "metadata": {},
   "outputs": [],
   "source": [
    "import numpy as np\n",
    "\n",
    "traj = mdt.Trajectory(small_molecule)\n",
    "for i in np.arange(1.0, 2.0, 0.1):\n",
    "    mdt.set_distance(small_molecule.atoms[1], small_molecule.atoms[2], i*mdt.units.angstrom)\n",
    "    small_molecule.calculate()\n",
    "    traj.new_frame()"
   ]
  },
  {
   "cell_type": "markdown",
   "metadata": {},
   "source": [
    "Note that the \"Play\" button will actually block until the animation completes. The new version of `ipywidgets` is rumored to have a \"play/pause\" widget that can fix this."
   ]
  },
  {
   "cell_type": "code",
   "execution_count": null,
   "metadata": {},
   "outputs": [],
   "source": [
    "traj.draw()"
   ]
  },
  {
   "cell_type": "markdown",
   "metadata": {},
   "source": [
    "### Trajectory Orbital Viewer\n",
    "\n",
    "This is like a trajectory viewer but also lets users see orbital animations. The implementation is pretty hacky.\n",
    "\n",
    "Class definition: `moldesign.widgets.trajectory.TrajectoryOrbViewer`\n",
    "\n",
    "Usually constructed with: `moldesign.molecules.trajectory.Trajectory.draw_orbitals()`"
   ]
  },
  {
   "cell_type": "code",
   "execution_count": null,
   "metadata": {},
   "outputs": [],
   "source": [
    "traj.draw_orbitals()"
   ]
  },
  {
   "cell_type": "markdown",
   "metadata": {},
   "source": [
    "### Forcefield assignment viewer\n",
    "\n",
    "This allows users to visualize protein structure problems that prevent a simulation from being created.\n",
    "\n",
    "It's essentially a smart viewer for logging output - to visualize it, click on the `ERRORS/WARNINGS` tab.\n",
    "\n",
    "Class definition: `moldesign.widgets.parameterization.ParameterizationDisplay`\n",
    "\n",
    "Usually constructed in: `moldesign.interfaces.ambertools.run_tleap()`"
   ]
  },
  {
   "cell_type": "code",
   "execution_count": null,
   "metadata": {},
   "outputs": [],
   "source": [
    "mdt.assign_forcefield(protein)"
   ]
  },
  {
   "cell_type": "code",
   "execution_count": null,
   "metadata": {},
   "outputs": [],
   "source": []
  }
 ],
 "metadata": {
  "kernelspec": {
   "display_name": "Python 3",
   "language": "python",
   "name": "python3"
  },
  "language_info": {
   "codemirror_mode": {
    "name": "ipython",
    "version": 3
   },
   "file_extension": ".py",
   "mimetype": "text/x-python",
   "name": "python",
   "nbconvert_exporter": "python",
   "pygments_lexer": "ipython3",
   "version": "3.6.1"
  }
 },
 "nbformat": 4,
 "nbformat_minor": 1
}