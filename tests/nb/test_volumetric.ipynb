{
 "cells": [
  {
   "cell_type": "code",
   "execution_count": null,
   "metadata": {},
   "outputs": [],
   "source": [
    "#! setup\n",
    "import moldesign as mdt\n",
    "import numpy as np\n",
    "from moldesign import units as u\n",
    "\n",
    "mol = mdt.from_smiles('[H][H]')\n",
    "mol.set_energy_model(mdt.models.DFT, basis='6-31g*')\n",
    "bond = next(mol.bonds)"
   ]
  },
  {
   "cell_type": "code",
   "execution_count": null,
   "metadata": {},
   "outputs": [],
   "source": [
    "#! fixture: h2min\n",
    "mol.translate([5.0, 0.0, 0.0] * u.angstrom)\n",
    "bond.length = 0.74 * u.angstrom\n",
    "mol.calculate()"
   ]
  },
  {
   "cell_type": "code",
   "execution_count": null,
   "metadata": {},
   "outputs": [],
   "source": [
    "#! test_draw_default\n",
    "#! with_fixture: h2min\n",
    "viewer = mol.draw_orbitals(display=True)\n",
    "viewer.current_orbital = mol.wfn.orbitals.canonical[3]"
   ]
  },
  {
   "cell_type": "code",
   "execution_count": null,
   "metadata": {},
   "outputs": [],
   "source": [
    "#! test_draw_with_custom_style\n",
    "#! with_fixture: h2min\n",
    "viewer = mol.draw_orbitals()\n",
    "viewer.current_orbital = mol.wfn.orbitals.canonical[1]\n",
    "viewer.isovalue = 0.02\n",
    "viewer.orb_opacity = 0.6\n",
    "viewer.positive_color = 'green'\n",
    "viewer.negative_color = 'purple'\n",
    "viewer"
   ]
  },
  {
   "cell_type": "code",
   "execution_count": null,
   "metadata": {},
   "outputs": [],
   "source": [
    "#! test_atomic_orbital_set\n",
    "#! with_fixture: h2min\n",
    "viewer = mol.draw_orbitals()\n",
    "viewer.type_dropdown.value = 'atomic'\n",
    "viewer.current_orbital = mol.wfn.orbitals.atomic[-2]\n",
    "viewer.isoval = 0.0025\n",
    "viewer"
   ]
  },
  {
   "cell_type": "code",
   "execution_count": null,
   "metadata": {},
   "outputs": [],
   "source": [
    "#! fixture: orbital_trajectory\n",
    "#! with_fixture: h2min\n",
    "traj = mdt.Trajectory(mol)\n",
    "for l in np.linspace(0.6, 2.0, 10) * u.angstrom:\n",
    "    bond.length = l\n",
    "    mol.calculate()    \n",
    "    traj.new_frame(annotation='Bond length: '+str(l))"
   ]
  },
  {
   "cell_type": "code",
   "execution_count": null,
   "metadata": {},
   "outputs": [],
   "source": [
    "#! test_orbital_trajectory\n",
    "#! with_fixture: orbital_trajectory\n",
    "viewer = traj.draw_orbitals(display=True)\n",
    "viewer.viewcontainer.numpoints = 10\n",
    "viewer.viewcontainer.orblist.value = list(viewer.viewcontainer.orblist.options.values())[1]\n",
    "viewer.current_frame = 3\n"
   ]
  },
  {
   "cell_type": "code",
   "execution_count": null,
   "metadata": {},
   "outputs": [],
   "source": []
  }
 ],
 "metadata": {
  "kernelspec": {
   "display_name": "Python 3",
   "language": "python",
   "name": "python3"
  },
  "language_info": {
   "codemirror_mode": {
    "name": "ipython",
    "version": 3
   },
   "file_extension": ".py",
   "mimetype": "text/x-python",
   "name": "python",
   "nbconvert_exporter": "python",
   "pygments_lexer": "ipython3",
   "version": "3.6.1"
  }
 },
 "nbformat": 4,
 "nbformat_minor": 2
}