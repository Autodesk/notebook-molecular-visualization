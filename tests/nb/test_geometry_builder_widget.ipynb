{
 "cells": [
  {
   "cell_type": "code",
   "execution_count": null,
   "metadata": {},
   "outputs": [],
   "source": [
    "#! setup\n",
    "import moldesign as mdt\n",
    "from moldesign import units as u\n",
    "\n",
    "from IPython.display import display\n",
    "import time"
   ]
  },
  {
   "cell_type": "code",
   "execution_count": null,
   "metadata": {},
   "outputs": [],
   "source": [
    "#! fixture: ethylene\n",
    "ethylene = mdt.read(\"\"\" 6\n",
    "C=C\n",
    "C          -0.66789360886407          -0.00000000000000           0.00000000000000\n",
    "C           0.66789360886407           0.00000000000000          -0.00000000000000\n",
    "H          -1.22777819703723           0.57883370119454          -0.72785534836319\n",
    "H          -1.22777819703723          -0.57883370119454           0.72785534836319\n",
    "H           1.22777819703723           0.57883370119454          -0.72785534836319\n",
    "H           1.22777819703723          -0.57883370119454           0.72785534836319\"\"\",\n",
    "               format='xyz')"
   ]
  },
  {
   "cell_type": "code",
   "execution_count": null,
   "metadata": {},
   "outputs": [],
   "source": [
    "#! test_display_geometry_widget_and_label_atoms\n",
    "#! fixture: labeled_widget\n",
    "#! with_fixture: ethylene\n",
    "widget = mdt.widgets.GeometryBuilder(ethylene)\n",
    "display(widget)\n",
    "widget.label_box.value = True"
   ]
  },
  {
   "cell_type": "code",
   "execution_count": null,
   "metadata": {},
   "outputs": [],
   "source": [
    "#! test_unlabel_atoms\n",
    "#! with_fixture: labeled_widget\n",
    "widget.label_box.value = False\n",
    "widget"
   ]
  },
  {
   "cell_type": "code",
   "execution_count": null,
   "metadata": {},
   "outputs": [],
   "source": [
    "#! test_geometry_viewer_select_atom\n",
    "#! with_fixture: ethylene\n",
    "#! fixture: atom_select\n",
    "widget = mdt.widgets.GeometryBuilder(ethylene)\n",
    "widget.viewer.selected_atom_indices = [1]\n",
    "widget"
   ]
  },
  {
   "cell_type": "code",
   "execution_count": null,
   "metadata": {},
   "outputs": [],
   "source": [
    "#! test_geometry_viewer_move_residue\n",
    "#! with_fixture: atom_select\n",
    "widget.movement_selector.value = 'residue'\n",
    "widget.x_slider.value = 5.0\n",
    "widget.y_slider.value = 1.0\n",
    "widget.z_slider.value = -3.0\n",
    "widget"
   ]
  },
  {
   "cell_type": "code",
   "execution_count": null,
   "metadata": {},
   "outputs": [],
   "source": [
    "#! test_geometry_viewer_select_2_atoms\n",
    "#! with_fixture: ethylene\n",
    "#! fixture: 2atom_select\n",
    "widget = mdt.widgets.GeometryBuilder(ethylene)\n",
    "widget.viewer.selected_atom_indices = [0,1]\n",
    "widget"
   ]
  },
  {
   "cell_type": "code",
   "execution_count": null,
   "metadata": {},
   "outputs": [],
   "source": [
    "#! test_geometry_rigid_length_mod\n",
    "#! with_fixture: 2atom_select\n",
    "widget\n",
    "widget.rigid_mol_selector.value = True\n",
    "widget.length_slider.value = 3.0\n",
    "widget"
   ]
  },
  {
   "cell_type": "code",
   "execution_count": null,
   "metadata": {},
   "outputs": [],
   "source": [
    "#! test_geometry_selected_length_mod\n",
    "#! with_fixture: 2atom_select\n",
    "widget.rigid_mol_selector.value = False\n",
    "widget.length_slider.value = 3.0\n",
    "widget"
   ]
  },
  {
   "cell_type": "code",
   "execution_count": null,
   "metadata": {},
   "outputs": [],
   "source": [
    "#! test_geometry_viewer_select_3_atoms\n",
    "#! with_fixture: ethylene\n",
    "#! fixture: 3atom_select\n",
    "widget = mdt.widgets.GeometryBuilder(ethylene)\n",
    "widget.viewer.selected_atom_indices = [0,1,4]\n",
    "widget"
   ]
  },
  {
   "cell_type": "code",
   "execution_count": null,
   "metadata": {},
   "outputs": [],
   "source": [
    "#! test_geometry_set_angle_rigid\n",
    "#! with_fixture: 3atom_select\n",
    "widget.rigid_mol_selector.value = True\n",
    "widget.angle_slider.value = 95.2\n",
    "widget"
   ]
  },
  {
   "cell_type": "code",
   "execution_count": null,
   "metadata": {},
   "outputs": [],
   "source": [
    "#! test_geometry_set_angle_selected_only\n",
    "#! with_fixture: 3atom_select\n",
    "widget.rigid_mol_selector.value = False\n",
    "widget.angle_slider.value = 95.2\n",
    "widget"
   ]
  },
  {
   "cell_type": "code",
   "execution_count": null,
   "metadata": {},
   "outputs": [],
   "source": [
    "#! test_geometry_viewer_select_4_atoms\n",
    "#! with_fixture: ethylene\n",
    "#! fixture: 4atom_select\n",
    "widget = mdt.widgets.GeometryBuilder(ethylene)\n",
    "widget.viewer.selected_atom_indices = [3,0,1,4]\n",
    "widget"
   ]
  },
  {
   "cell_type": "code",
   "execution_count": null,
   "metadata": {},
   "outputs": [],
   "source": [
    "#! test_gb_set_twist_rigid\n",
    "#! with_fixture: 4atom_select\n",
    "widget.rigid_mol_selector.value = True\n",
    "widget.dihedral_slider.value = 95.2\n",
    "widget"
   ]
  },
  {
   "cell_type": "code",
   "execution_count": null,
   "metadata": {},
   "outputs": [],
   "source": [
    "#! test_gb_set_twist_selected_only\n",
    "#! with_fixture: 4atom_select\n",
    "widget.rigid_mol_selector.value = False\n",
    "widget.dihedral_slider.value = 95.2\n",
    "widget"
   ]
  },
  {
   "cell_type": "code",
   "execution_count": null,
   "metadata": {},
   "outputs": [],
   "source": []
  }
 ],
 "metadata": {
  "kernelspec": {
   "display_name": "Python 3",
   "language": "python",
   "name": "python3"
  },
  "language_info": {
   "codemirror_mode": {
    "name": "ipython",
    "version": 3
   },
   "file_extension": ".py",
   "mimetype": "text/x-python",
   "name": "python",
   "nbconvert_exporter": "python",
   "pygments_lexer": "ipython3",
   "version": "3.6.1"
  }
 },
 "nbformat": 4,
 "nbformat_minor": 2
}