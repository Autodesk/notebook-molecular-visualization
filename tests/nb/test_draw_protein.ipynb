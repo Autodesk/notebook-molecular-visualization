{
 "cells": [
  {
   "cell_type": "code",
   "execution_count": null,
   "metadata": {},
   "outputs": [],
   "source": [
    "#! setup\n",
    "import os\n",
    "import moldesign as mdt\n",
    "\n",
    "protease = mdt.read(os.path.join(mdt.__path__[0], '_tests', 'data', '3aid.pdb'))"
   ]
  },
  {
   "cell_type": "code",
   "execution_count": null,
   "metadata": {},
   "outputs": [],
   "source": [
    "#! test_draw_3aid\n",
    "protease.draw(width='600px', height=600)"
   ]
  },
  {
   "cell_type": "code",
   "execution_count": null,
   "metadata": {},
   "outputs": [],
   "source": [
    "# ! test_color_by_list\n",
    "viewer = protease.draw(style='stick')\n",
    "viewer.color_by([atom.index for atom in protease.atoms])\n",
    "viewer"
   ]
  },
  {
   "cell_type": "code",
   "execution_count": null,
   "metadata": {},
   "outputs": [],
   "source": [
    "#! test_color_by_lambda\n",
    "viewer = protease.draw()\n",
    "viewer.color_by(lambda atom: atom.chain)\n",
    "viewer"
   ]
  },
  {
   "cell_type": "code",
   "execution_count": null,
   "metadata": {},
   "outputs": [],
   "source": [
    "#! test_spheres\n",
    "viewer = protease.draw()\n",
    "viewer.spheres()\n",
    "viewer"
   ]
  },
  {
   "cell_type": "code",
   "execution_count": null,
   "metadata": {},
   "outputs": [],
   "source": [
    "#! test_lines\n",
    "viewer = protease.draw()\n",
    "viewer.line()\n",
    "viewer.color_by(lambda atom: sum(n.num_bonds for n in atom.bonded_atoms))\n",
    "viewer"
   ]
  },
  {
   "cell_type": "code",
   "execution_count": null,
   "metadata": {},
   "outputs": [],
   "source": [
    "#! test_set_color\n",
    "#! fixture: colors_set\n",
    "viewer = protease.draw()\n",
    "viewer.set_color('hotpink', atoms=[atom for atom in protease.atoms[:1000] if atom.atnum == 6])\n",
    "viewer.lines()\n",
    "viewer"
   ]
  },
  {
   "cell_type": "code",
   "execution_count": null,
   "metadata": {},
   "outputs": [],
   "source": [
    "#! test_unset_color\n",
    "#! with_fixture: colors_set\n",
    "display(viewer)\n",
    "viewer.sticks()\n",
    "viewer.unset_color(protease.atoms[:800])"
   ]
  },
  {
   "cell_type": "code",
   "execution_count": null,
   "metadata": {},
   "outputs": [],
   "source": [
    "#! test_color_by_string\n",
    "viewer = protease.draw()\n",
    "viewer.color_by('residue')\n",
    "viewer"
   ]
  },
  {
   "cell_type": "code",
   "execution_count": null,
   "metadata": {},
   "outputs": [],
   "source": [
    "#! test_sphere_subset\n",
    "viewer = protease.draw()\n",
    "viewer.sphere(atoms=protease.atoms[:100], color='purple', opacity=0.8)\n",
    "viewer"
   ]
  },
  {
   "cell_type": "code",
   "execution_count": null,
   "metadata": {},
   "outputs": [],
   "source": [
    "#! test_protease_label\n",
    "viewer = protease.draw()\n",
    "viewer.draw_label(protease.residues[-1].com, text=protease.residues[0].name)\n",
    "viewer.draw_label(protease.com, text='Center of mass', fontsize=12, opacity=1.0, background=None)\n",
    "for residue in protease.residues:\n",
    "    if residue.type != 'protein':\n",
    "        viewer.draw_label(residue.com, text=residue.resname,\n",
    "                          background='red', color='blue', fontsize=22, opacity=0.5)\n",
    "viewer"
   ]
  },
  {
   "cell_type": "code",
   "execution_count": null,
   "metadata": {},
   "outputs": [],
   "source": [
    "#! test_clipping_planes\n",
    "viewer = protease.draw3d(display=True)\n",
    "viewer.near_clip=-1.5\n",
    "viewer.far_clip=1.5"
   ]
  },
  {
   "cell_type": "code",
   "execution_count": null,
   "metadata": {},
   "outputs": [],
   "source": []
  }
 ],
 "metadata": {
  "kernelspec": {
   "display_name": "Python 3",
   "language": "python",
   "name": "python3"
  },
  "language_info": {
   "codemirror_mode": {
    "name": "ipython",
    "version": 3
   },
   "file_extension": ".py",
   "mimetype": "text/x-python",
   "name": "python",
   "nbconvert_exporter": "python",
   "pygments_lexer": "ipython3",
   "version": "3.6.1"
  }
 },
 "nbformat": 4,
 "nbformat_minor": 2
}