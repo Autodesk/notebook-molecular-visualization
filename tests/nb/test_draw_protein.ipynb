{
 "cells": [
  {
   "cell_type": "code",
   "execution_count": null,
   "metadata": {},
   "outputs": [],
   "source": [
    "#! setup\n",
    "import os\n",
    "import moldesign as mdt\n",
    "\n",
    "\n",
    "protease = mdt.read(os.path.join(mdt.__path__[0], '_tests', 'data', '3aid.pdb'))"
   ]
  },
  {
   "cell_type": "code",
   "execution_count": null,
   "metadata": {},
   "outputs": [],
   "source": [
    "#! test_draw_3aid\n",
    "protease.draw()"
   ]
  },
  {
   "cell_type": "code",
   "execution_count": null,
   "metadata": {},
   "outputs": [],
   "source": [
    "#! test_color_by_lambda\n",
    "viewer = protease.draw()\n",
    "viewer.set_color(lambda atom: atom.chain)\n",
    "viewer"
   ]
  },
  {
   "cell_type": "code",
   "execution_count": null,
   "metadata": {},
   "outputs": [],
   "source": [
    "#! test_color_by_string\n",
    "viewer = protease.draw()\n",
    "viewer.color_by('residue')\n",
    "viewer"
   ]
  },
  {
   "cell_type": "code",
   "execution_count": null,
   "metadata": {},
   "outputs": [],
   "source": [
    "#! test_set_color_by_list\n",
    "atom_masses = [a.mass for a in protease.atoms]\n",
    "viewer = protease.draw()\n",
    "viewer.stick()\n",
    "viewer.set_color(atom_masses)\n",
    "viewer"
   ]
  },
  {
   "cell_type": "code",
   "execution_count": null,
   "metadata": {},
   "outputs": [],
   "source": [
    "#! test_sphere_subset\n",
    "viewer = protease.draw()\n",
    "viewer.sphere(atoms=protease.atoms[:100], color='purple', radius=2.0, opacity=0.8)\n",
    "viewer"
   ]
  },
  {
   "cell_type": "code",
   "execution_count": null,
   "metadata": {},
   "outputs": [],
   "source": [
    "#! test_protease_label\n",
    "viewer = protease.draw()\n",
    "viewer.draw_label(protease.residues[0].com, text=protease.residues[0].name)\n",
    "viewer"
   ]
  }
 ],
 "metadata": {
  "kernelspec": {
   "display_name": "Python 3",
   "language": "python",
   "name": "python3"
  },
  "language_info": {
   "codemirror_mode": {
    "name": "ipython",
    "version": 3
   },
   "file_extension": ".py",
   "mimetype": "text/x-python",
   "name": "python",
   "nbconvert_exporter": "python",
   "pygments_lexer": "ipython3",
   "version": "3.6.1"
  }
 },
 "nbformat": 4,
 "nbformat_minor": 2
}