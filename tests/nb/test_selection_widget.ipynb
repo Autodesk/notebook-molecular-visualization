{
 "cells": [
  {
   "cell_type": "code",
   "execution_count": null,
   "metadata": {},
   "outputs": [],
   "source": [
    "#! setup\n",
    "import os\n",
    "from IPython.display import display\n",
    "import moldesign as mdt\n",
    "from moldesign import units as u"
   ]
  },
  {
   "cell_type": "code",
   "execution_count": null,
   "metadata": {},
   "outputs": [],
   "source": [
    "#! fixture: atomselector\n",
    "ethylene = mdt.from_smiles('C=C')\n",
    "selector = mdt.widgets.AtomSelector(ethylene)"
   ]
  },
  {
   "cell_type": "code",
   "execution_count": null,
   "metadata": {},
   "outputs": [],
   "source": [
    "#! test_atom_selector\n",
    "#! with_fixture: atomselector\n",
    "selector.viewer.selected_atoms = ethylene.atoms[-1:]\n",
    "selector"
   ]
  },
  {
   "cell_type": "code",
   "execution_count": null,
   "metadata": {},
   "outputs": [],
   "source": [
    "#! test_atom_selectall\n",
    "#! with_fixture: atomselector\n",
    "selector.select_all_atoms()\n",
    "assert set(selector.selected_atoms) == set(ethylene.atoms)\n",
    "assert set(selector.atom_list.options) == set(ethylene.atoms)\n",
    "selector"
   ]
  },
  {
   "cell_type": "code",
   "execution_count": null,
   "metadata": {},
   "outputs": [],
   "source": [
    "#! fixture: residueselector\n",
    "protease = mdt.read(os.path.join(mdt.__path__[0], '_tests', 'data', '3aid.pdb'))\n",
    "selector = mdt.widgets.ResidueSelector(protease)"
   ]
  },
  {
   "cell_type": "code",
   "execution_count": null,
   "metadata": {},
   "outputs": [],
   "source": [
    "#! test_residue_selector\n",
    "#! with_fixture: residueselector\n",
    "selector.representation_buttons.value = 'stick'\n",
    "selector.viewer.selected_atom_indices = list(range(40))\n",
    "assert len(selector.atom_list.options) == 40\n",
    "assert len(selector.residue_list.options) == protease.atoms[39].residue.index\n",
    "selector"
   ]
  },
  {
   "cell_type": "code",
   "execution_count": null,
   "metadata": {},
   "outputs": [],
   "source": [
    "#! test_residue_selectall\n",
    "#! with_fixture: residueselector\n",
    "display(selector)\n",
    "selector.select_all_atoms()\n",
    "assert set(selector.selected_residues) == set(protease.residues)\n",
    "assert set(selector.residue_list.options.values()) == set(protease.residues)"
   ]
  },
  {
   "cell_type": "code",
   "execution_count": null,
   "metadata": {},
   "outputs": [],
   "source": [
    "#! fixture: bondselector\n",
    "cyclohexane = mdt.from_smiles('C1CCCCC1')\n",
    "selector = mdt.widgets.BondSelector(cyclohexane)"
   ]
  },
  {
   "cell_type": "code",
   "execution_count": null,
   "metadata": {},
   "outputs": [],
   "source": [
    "#! test_bond_selector\n",
    "#! with_fixture: bondselector\n",
    "selector.selected_bonds = [next(cyclohexane.bonds)]\n",
    "selector"
   ]
  },
  {
   "cell_type": "code",
   "execution_count": null,
   "metadata": {},
   "outputs": [],
   "source": [
    "#! test_bond_selectall\n",
    "#! with_fixture: bondselector\n",
    "selector.select_all_atoms()\n",
    "assert set(selector.selected_bonds) == set(cyclohexane.bonds)\n",
    "assert set(selector.bond_list.options) == set(cyclohexane.bonds)\n",
    "selector"
   ]
  },
  {
   "cell_type": "code",
   "execution_count": null,
   "metadata": {},
   "outputs": [],
   "source": []
  }
 ],
 "metadata": {
  "kernelspec": {
   "display_name": "Python 3",
   "language": "python",
   "name": "python3"
  },
  "language_info": {
   "codemirror_mode": {
    "name": "ipython",
    "version": 3
   },
   "file_extension": ".py",
   "mimetype": "text/x-python",
   "name": "python",
   "nbconvert_exporter": "python",
   "pygments_lexer": "ipython3",
   "version": "3.6.1"
  }
 },
 "nbformat": 4,
 "nbformat_minor": 2
}