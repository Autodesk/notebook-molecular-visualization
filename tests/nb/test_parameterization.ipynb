{
 "cells": [
  {
   "cell_type": "code",
   "execution_count": null,
   "metadata": {},
   "outputs": [],
   "source": [
    "#! setup\n",
    "import os\n",
    "import moldesign as mdt\n",
    "\n",
    "protease = mdt.read(os.path.join(mdt.__path__[0], '_tests', 'data', '3aid.pdb'))"
   ]
  },
  {
   "cell_type": "code",
   "execution_count": null,
   "metadata": {},
   "outputs": [],
   "source": [
    "#! test_parameterization_display_ok\n",
    "receptor = mdt.Molecule(protease.get_atoms('protein'))\n",
    "mdt.guess_histidine_states(receptor)\n",
    "amberparm = mdt.forcefields.DefaultAmber()\n",
    "\n",
    "mdreceptor = amberparm.create_prepped_molecule(receptor)"
   ]
  },
  {
   "cell_type": "code",
   "execution_count": null,
   "metadata": {},
   "outputs": [],
   "source": [
    "#! test_parameterization_errors\n",
    "ligand = mdt.Molecule(protease.get_atoms('unknown'))\n",
    "amberparm = mdt.forcefields.DefaultAmber()\n",
    "\n",
    "try:\n",
    "    amberparm.create_prepped_molecule(ligand)\n",
    "except mdt.ForcefieldAssignmentError as myexc:\n",
    "    pass"
   ]
  },
  {
   "cell_type": "code",
   "execution_count": null,
   "metadata": {},
   "outputs": [],
   "source": [
    "#! test_pigdog\n",
    "viewer = mdt.Molecule([mdt.Atom('H')]).draw3d(display=True)\n",
    "\n",
    "# body\n",
    "viewer.draw_cylinder(start=[10,0,0], end=[-10,0,0], radius=4, color='#a94200')\n",
    "viewer.draw_cylinder(start=[-10,4,0], end=[-14,6,0], radius=1, color='#a94200')\n",
    "\n",
    "# legs\n",
    "viewer.draw_cylinder(start=[10,-2,-2], end=[10,-8,-8], radius=1, color='#a94200')\n",
    "viewer.draw_cylinder(start=[10,-2,2], end=[10,-8,8], radius=1, color='#a94200')\n",
    "viewer.draw_cylinder(start=[-10,-2,-2], end=[-10,-8,-8], radius=1, color='#a94200')\n",
    "viewer.draw_cylinder(start=[-10,-2,2], end=[-10,-8,8], radius=1, color='#a94200')\n",
    "\n",
    "# head\n",
    "viewer.draw_cylinder(start=[10,2,0], end=[14,3,0], radius=4, color='#a94200')\n",
    "viewer.draw_cylinder(start=[14,2,0], end=[18,2.5,0], radius=2, color='#a94200')\n",
    "viewer.draw_cylinder(start=[18,2.5,0], end=[18.5,2.5,0], radius=1.5, color='#e9959a')\n",
    "viewer.draw_cylinder(start=[10,4,2], end=[10,6,2], radius=1, color='#a94200')\n",
    "viewer.draw_cylinder(start=[10,4,-2], end=[10,6,-2], radius=1, color='#a94200')\n",
    "\n",
    "# eyes\n",
    "viewer.draw_sphere([14,5,1.5], radius=1.0, color='white')\n",
    "viewer.draw_sphere([14,5,-1.5], radius=1.0, color='white')\n",
    "viewer.draw_sphere([15,5.3,1.5], radius=0.2, color='black')\n",
    "viewer.draw_sphere([15,5.3,-1.5], radius=0.2, color='black')"
   ]
  },
  {
   "cell_type": "code",
   "execution_count": null,
   "metadata": {},
   "outputs": [],
   "source": []
  }
 ],
 "metadata": {
  "kernelspec": {
   "display_name": "Python 3",
   "language": "python",
   "name": "python3"
  },
  "language_info": {
   "codemirror_mode": {
    "name": "ipython",
    "version": 3
   },
   "file_extension": ".py",
   "mimetype": "text/x-python",
   "name": "python",
   "nbconvert_exporter": "python",
   "pygments_lexer": "ipython3",
   "version": "3.6.1"
  }
 },
 "nbformat": 4,
 "nbformat_minor": 2
}