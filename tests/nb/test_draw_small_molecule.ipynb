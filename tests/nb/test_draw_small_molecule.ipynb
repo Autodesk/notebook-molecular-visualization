{
 "cells": [
  {
   "cell_type": "code",
   "execution_count": null,
   "metadata": {},
   "outputs": [],
   "source": [
    "#! setup\n",
    "import numpy as np\n",
    "import moldesign as mdt\n",
    "from moldesign import units as u\n",
    "from IPython.display import display\n",
    "\n",
    "acetylene=mdt.read(\"\"\"4\n",
    "acetylene\n",
    "C           0.86130672439060          -0.03429540246582           0.03562730537765\n",
    "C          -0.33899621346835          -0.03429540246582           0.03562730537765\n",
    "H           1.92711178889567          -0.03429540246582           0.03562730537765\n",
    "H          -1.40480127797341          -0.03429540246582           0.03562730537765\n",
    "\"\"\", format='xyz')\n",
    "\n",
    "cyclohexane = mdt.read(\"\"\"18\n",
    "cyclohexane\n",
    "C           0.72459854477848           1.26176676081555          -0.22980933268480\n",
    "C          -0.72964565907845           1.25689879707042           0.23587232712339\n",
    "C          -1.45125684865964           0.00009541534346          -0.24385400156897\n",
    "C          -0.73068866953508          -1.25710673148803           0.23642625773656\n",
    "C           0.72374705626021          -1.26341586400266          -0.22869629348233\n",
    "C           1.45630892735770          -0.00086822863166           0.22169529310120\n",
    "H           1.23716125524085           2.14821232571702           0.16060338826431\n",
    "H           0.75536279079703           1.32903994493943          -1.32391383723302\n",
    "H          -0.76379438095384           1.30322937926981           1.33108876057444\n",
    "H          -1.24423546187030           2.14833854254201          -0.13985790455878\n",
    "H          -1.49420132202878          -0.00011275714537          -1.33977123513977\n",
    "H          -2.48504606386685           0.00060204516646           0.11887614360894\n",
    "H          -1.24587149468131          -2.14825488162298          -0.13919214010059\n",
    "H          -0.76524095448971          -1.30307294199167           1.33164097377765\n",
    "H           0.75488632679830          -1.33189942689561          -1.32271228302583\n",
    "H           1.23552562648700          -2.14981918748604           0.16285578233159\n",
    "H           2.47619380227094          -0.00139028106171          -0.17945839471814\n",
    "H           1.54143894897504          -0.00041355646012           1.31490392873224\"\"\",\n",
    "                      format='xyz')\n",
    "\n",
    "ethylene = mdt.read(\"\"\" 6\n",
    "C=C\n",
    "C          -0.66789360886407          -0.00000000000000           0.00000000000000\n",
    "C           0.66789360886407           0.00000000000000          -0.00000000000000\n",
    "H          -1.22777819703723           0.57883370119454          -0.72785534836319\n",
    "H          -1.22777819703723          -0.57883370119454           0.72785534836319\n",
    "H           1.22777819703723           0.57883370119454          -0.72785534836319\n",
    "H           1.22777819703723          -0.57883370119454           0.72785534836319\"\"\",\n",
    "               format='xyz')"
   ]
  },
  {
   "cell_type": "code",
   "execution_count": null,
   "metadata": {},
   "outputs": [],
   "source": [
    "#! test_small_molecule_draw3d\n",
    "cyclohexane.draw3d()"
   ]
  },
  {
   "cell_type": "code",
   "execution_count": null,
   "metadata": {},
   "outputs": [],
   "source": [
    "#! test_small_molecule_draw2d\n",
    "cyclohexane.draw2d()"
   ]
  },
  {
   "cell_type": "code",
   "execution_count": null,
   "metadata": {},
   "outputs": [],
   "source": [
    "#! test_small_molecule_draw_panes\n",
    "cyclohexane.draw()"
   ]
  },
  {
   "cell_type": "code",
   "execution_count": null,
   "metadata": {},
   "outputs": [],
   "source": [
    "#! test_small_molecule_draw_with_selection\n",
    "panes = cyclohexane.draw()\n",
    "panes.viewer.selected_atom_indices=[1,2,3]\n",
    "panes"
   ]
  },
  {
   "cell_type": "code",
   "execution_count": null,
   "metadata": {},
   "outputs": [],
   "source": [
    "#! test_small_molecule_with_double_bonds\n",
    "ethylene.draw()"
   ]
  },
  {
   "cell_type": "code",
   "execution_count": null,
   "metadata": {},
   "outputs": [],
   "source": [
    "#! test_small_molecule_with_triple_bonds\n",
    "viewer = acetylene.draw()\n",
    "viewer"
   ]
  },
  {
   "cell_type": "code",
   "execution_count": null,
   "metadata": {},
   "outputs": [],
   "source": [
    "#! test_draw_shapes\n",
    "viewer = ethylene.draw3d()\n",
    "viewer.draw_sphere(np.ones(3), color='green', opacity=0.5)\n",
    "viewer.draw_cylinder(start=np.ones(3)-9, end=[0,0,-4], color='purple', opacity=0.8, radius=1.0)\n",
    "viewer.draw_arrow(start=[0,0,0], end=[0,0,-4], color=0xaabbcc, opacity=0.8, radius=1.0)\n",
    "viewer"
   ]
  },
  {
   "cell_type": "code",
   "execution_count": null,
   "metadata": {},
   "outputs": [],
   "source": [
    "#! test_draw_outline_default\n",
    "viewer = ethylene.draw3d()\n",
    "viewer.set_outline()\n",
    "viewer"
   ]
  },
  {
   "cell_type": "code",
   "execution_count": null,
   "metadata": {},
   "outputs": [],
   "source": [
    "#! test_draw_outline_with_parameters\n",
    "viewer = ethylene.draw3d()\n",
    "viewer.set_outline(0.3, 'purple')\n",
    "viewer"
   ]
  },
  {
   "cell_type": "code",
   "execution_count": null,
   "metadata": {},
   "outputs": [],
   "source": [
    "#! test_draw_axes\n",
    "#! fixture: axes_on\n",
    "viewer = ethylene.draw3d()\n",
    "viewer.draw_axes(True)\n",
    "viewer"
   ]
  },
  {
   "cell_type": "code",
   "execution_count": null,
   "metadata": {},
   "outputs": [],
   "source": [
    "#! test_turn_off_axes\n",
    "#! with_fixture: axes_on\n",
    "display(viewer)\n",
    "viewer.draw_axes(False)"
   ]
  },
  {
   "cell_type": "code",
   "execution_count": null,
   "metadata": {},
   "outputs": [],
   "source": [
    "#! test_draw_arrowvec\n",
    "viewer = ethylene.draw3d()\n",
    "viewer.draw_atom_vectors(ethylene.positions, scale_factor=1.0)\n",
    "viewer"
   ]
  },
  {
   "cell_type": "code",
   "execution_count": null,
   "metadata": {},
   "outputs": [],
   "source": [
    "#! test_draw_forces\n",
    "ethylene.set_energy_model(mdt.models.HarmonicOscillator, k = 1.0 * u.eV / u.angstrom**2)\n",
    "ethylene.calculate_forces()\n",
    "viewer = ethylene.draw3d()\n",
    "viewer.draw_forces()\n",
    "viewer"
   ]
  },
  {
   "cell_type": "code",
   "execution_count": null,
   "metadata": {},
   "outputs": [],
   "source": []
  }
 ],
 "metadata": {
  "kernelspec": {
   "display_name": "Python 3",
   "language": "python",
   "name": "python3"
  },
  "language_info": {
   "codemirror_mode": {
    "name": "ipython",
    "version": 3
   },
   "file_extension": ".py",
   "mimetype": "text/x-python",
   "name": "python",
   "nbconvert_exporter": "python",
   "pygments_lexer": "ipython3",
   "version": "3.6.1"
  }
 },
 "nbformat": 4,
 "nbformat_minor": 2
}