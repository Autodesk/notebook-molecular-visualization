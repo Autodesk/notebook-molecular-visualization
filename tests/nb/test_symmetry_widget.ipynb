{
 "cells": [
  {
   "cell_type": "code",
   "execution_count": null,
   "metadata": {},
   "outputs": [],
   "source": [
    "#! setup\n",
    "import moldesign as mdt\n",
    "from moldesign import units as u"
   ]
  },
  {
   "cell_type": "code",
   "execution_count": null,
   "metadata": {},
   "outputs": [],
   "source": [
    "#! fixture: small_molecule\n",
    "ethylene = mdt.read(\"\"\" 6\n",
    "C=C\n",
    "C          -0.66789360886407          -0.00000000000000           0.00000000000000\n",
    "C           0.66789360886407           0.00000000000000          -0.00000000000000\n",
    "H          -1.22777819703723           0.57883370119454          -0.72785534836319\n",
    "H          -1.22777819703723          -0.57883370119454           0.72785534836319\n",
    "H           1.22777819703723           0.57883370119454          -0.72785534836319\n",
    "H           1.22777819703723          -0.57883370119454           0.72785534836319\"\"\",\n",
    "               format='xyz')\n",
    "\n",
    "ethylene_approx = mdt.read(\"\"\"   6\n",
    "C2H4 copy\n",
    "C          -0.64546819490247           0.04104558002561           0.00579659416233\n",
    "C           0.67083585052662           0.04615514874115           0.04340221501176\n",
    "H          -1.22478647870205           0.58336500629712          -0.69564501257886\n",
    "H          -1.19645867439574          -0.54758604495420           0.77341780991961\n",
    "H           1.23895589118502           0.61936546586787          -0.70618284765621\n",
    "H           1.23196529150741          -0.55353037366956           0.73894954100032\"\"\",\n",
    "                          format='xyz')"
   ]
  },
  {
   "cell_type": "code",
   "execution_count": null,
   "metadata": {},
   "outputs": [],
   "source": [
    "#! test_ethlene_symmetry_ci\n",
    "#! with_fixture: small_molecule\n",
    "symm = mdt.widgets.Symmetrizer(ethylene)\n",
    "symm.symm_selector.value = symm.symm_selector.options['4) Ci (exact)']\n",
    "symm"
   ]
  },
  {
   "cell_type": "code",
   "execution_count": null,
   "metadata": {},
   "outputs": [],
   "source": [
    "#! test_ethlene_symmetry_c2\n",
    "#! with_fixture: small_molecule\n",
    "symm = mdt.widgets.Symmetrizer(ethylene)\n",
    "symm.symm_selector.value = symm.symm_selector.options['3) C2 (exact)']\n",
    "symm"
   ]
  },
  {
   "cell_type": "code",
   "execution_count": null,
   "metadata": {},
   "outputs": [],
   "source": [
    "#! test_ethlene_approximate_symmetry_display\n",
    "#! with_fixture: small_molecule\n",
    "symm = mdt.widgets.Symmetrizer(ethylene_approx)\n",
    "symm.symm_selector.value = symm.symm_selector.options['5) Cs (error=0.0427 angstrom)']\n",
    "symm.apply_selected_symmetry()\n",
    "symm"
   ]
  },
  {
   "cell_type": "code",
   "execution_count": null,
   "metadata": {},
   "outputs": [],
   "source": []
  }
 ],
 "metadata": {
  "kernelspec": {
   "display_name": "Python 3",
   "language": "python",
   "name": "python3"
  },
  "language_info": {
   "codemirror_mode": {
    "name": "ipython",
    "version": 3
   },
   "file_extension": ".py",
   "mimetype": "text/x-python",
   "name": "python",
   "nbconvert_exporter": "python",
   "pygments_lexer": "ipython3",
   "version": "3.6.1"
  }
 },
 "nbformat": 4,
 "nbformat_minor": 2
}