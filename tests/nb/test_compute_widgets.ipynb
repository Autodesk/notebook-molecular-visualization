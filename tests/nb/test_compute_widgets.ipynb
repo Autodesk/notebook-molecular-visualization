{
 "cells": [
  {
   "cell_type": "code",
   "execution_count": null,
   "metadata": {},
   "outputs": [],
   "source": [
    "#! setup\n",
    "import moldesign as mdt\n",
    "import nbmolviz"
   ]
  },
  {
   "cell_type": "code",
   "execution_count": null,
   "metadata": {},
   "outputs": [],
   "source": [
    "#! test_about\n",
    "mdt.about()"
   ]
  },
  {
   "cell_type": "code",
   "execution_count": null,
   "metadata": {},
   "outputs": [],
   "source": [
    "#! fixture: configobj\n",
    "ui = nbmolviz.mdtconfig.compute.MDTConfig()"
   ]
  },
  {
   "cell_type": "code",
   "execution_count": null,
   "metadata": {},
   "outputs": [],
   "source": [
    "#! test_notebook_config\n",
    "#! with_fixture: configobj\n",
    "ui.tab_list.selected_index = 1\n",
    "ui"
   ]
  },
  {
   "cell_type": "code",
   "execution_count": null,
   "metadata": {},
   "outputs": [],
   "source": [
    "#! test_interface_config\n",
    "#! with_fixture: configobj\n",
    "ui.tab_list.selected_index = 2\n",
    "ui"
   ]
  },
  {
   "cell_type": "code",
   "execution_count": null,
   "metadata": {},
   "outputs": [],
   "source": [
    "#! test_docker_config\n",
    "#! with_fixture: configobj\n",
    "ui.tab_list.selected_index = 3\n",
    "ui"
   ]
  },
  {
   "cell_type": "code",
   "execution_count": null,
   "metadata": {},
   "outputs": [],
   "source": [
    "#! test_docker_config\n",
    "#! with_fixture: configobj\n",
    "ui.tab_list.selected_index = 4\n",
    "ui"
   ]
  },
  {
   "cell_type": "code",
   "execution_count": null,
   "metadata": {},
   "outputs": [],
   "source": [
    "ui"
   ]
  },
  {
   "cell_type": "code",
   "execution_count": null,
   "metadata": {},
   "outputs": [],
   "source": [
    "#! test_pyccc_status_widget\n",
    "import pyccc\n",
    "engine = pyccc.engines.Docker()\n",
    "infiles = {'a.txt':\"the only thing in this file is 'a'\"}\n",
    "job = engine.launch(image='alpine', command=\"cp a.txt b.txt\", inputs=infiles)\n",
    "job.get_display_object()"
   ]
  },
  {
   "cell_type": "code",
   "execution_count": null,
   "metadata": {},
   "outputs": [],
   "source": [
    "#! test_logging_status_widgets\n",
    "import moldesign as mdt\n",
    "mdt.from_name('benzene')\n",
    "mdt.from_name('hexane')\n",
    "mdt.from_name('error_has_error')"
   ]
  },
  {
   "cell_type": "code",
   "execution_count": null,
   "metadata": {},
   "outputs": [],
   "source": []
  }
 ],
 "metadata": {
  "kernelspec": {
   "display_name": "Python 3",
   "language": "python",
   "name": "python3"
  },
  "language_info": {
   "codemirror_mode": {
    "name": "ipython",
    "version": 3
   },
   "file_extension": ".py",
   "mimetype": "text/x-python",
   "name": "python",
   "nbconvert_exporter": "python",
   "pygments_lexer": "ipython3",
   "version": "3.6.1"
  }
 },
 "nbformat": 4,
 "nbformat_minor": 2
}