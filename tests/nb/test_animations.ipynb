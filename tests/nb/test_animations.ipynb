{
 "cells": [
  {
   "cell_type": "code",
   "execution_count": null,
   "metadata": {},
   "outputs": [],
   "source": [
    "#! setup\n",
    "import os\n",
    "import time\n",
    "from IPython.display import display\n",
    "\n",
    "import moldesign as mdt\n",
    "from moldesign import units as u\n",
    "mol = mdt.read(os.path.join(mdt.__path__[0], '_tests', 'data', '3aid.pdb'))"
   ]
  },
  {
   "cell_type": "code",
   "execution_count": null,
   "metadata": {},
   "outputs": [],
   "source": [
    "#! fixture: rigid_body_trajectory\n",
    "chain = mol.chains['B']\n",
    "traj = mdt.Trajectory(mol)\n",
    "traj.new_frame(annotation='starting frame')\n",
    "for i in range(20):\n",
    "    chain.translate([1.0, 0.0, 0.0] * u.angstrom)\n",
    "    chain.rotate(10.0 * u.degrees, [1,0,0])\n",
    "    traj.new_frame(annotation='chr(%s) = %s' % (65+i, chr(65+i)))"
   ]
  },
  {
   "cell_type": "code",
   "execution_count": null,
   "metadata": {},
   "outputs": [],
   "source": [
    "#! test_set_positions\n",
    "#! with_fixture: rigid_body_trajectory\n",
    "viewer = mol.draw(display=True)\n",
    "for frame in traj.frames:\n",
    "    viewer.set_positions(frame.positions)\n",
    "    time.sleep(0.1)"
   ]
  },
  {
   "cell_type": "code",
   "execution_count": null,
   "metadata": {},
   "outputs": [],
   "source": [
    "#! test_trajectory_viewer\n",
    "#! with_fixture: rigid_body_trajectory\n",
    "viewer = traj.draw(display=True)\n",
    "viewer.current_frame = 15"
   ]
  },
  {
   "cell_type": "code",
   "execution_count": null,
   "metadata": {},
   "outputs": [],
   "source": [
    "#! test_colored_trajectory\n",
    "#! with_fixture: rigid_body_trajectory\n",
    "viewer = traj.draw(style='stick', display=True)\n",
    "viewer.color_by(lambda atom:1.0 * atom.y + atom.x)\n",
    "viewer.set_outline(0.125, color='#8f90ab')\n",
    "viewer.current_frame=17"
   ]
  },
  {
   "cell_type": "code",
   "execution_count": null,
   "metadata": {},
   "outputs": [],
   "source": []
  }
 ],
 "metadata": {
  "kernelspec": {
   "display_name": "Python 3",
   "language": "python",
   "name": "python3"
  },
  "language_info": {
   "codemirror_mode": {
    "name": "ipython",
    "version": 3
   },
   "file_extension": ".py",
   "mimetype": "text/x-python",
   "name": "python",
   "nbconvert_exporter": "python",
   "pygments_lexer": "ipython3",
   "version": "3.6.1"
  }
 },
 "nbformat": 4,
 "nbformat_minor": 2
}