{
 "cells": [
  {
   "cell_type": "code",
   "execution_count": null,
   "metadata": {},
   "outputs": [],
   "source": [
    "#! setup\n",
    "import moldesign as mdt\n",
    "from moldesign import units as u\n",
    "\n",
    "from IPython.display import display\n",
    "import time"
   ]
  },
  {
   "cell_type": "code",
   "execution_count": null,
   "metadata": {},
   "outputs": [],
   "source": [
    "#! fixture: ethylene\n",
    "ethylene = mdt.read(\"\"\" 6\n",
    "C=C\n",
    "C          -0.66789360886407          -0.00000000000000           0.00000000000000\n",
    "C           0.66789360886407           0.00000000000000          -0.00000000000000\n",
    "H          -1.22777819703723           0.57883370119454          -0.72785534836319\n",
    "H          -1.22777819703723          -0.57883370119454           0.72785534836319\n",
    "H           1.22777819703723           0.57883370119454          -0.72785534836319\n",
    "H           1.22777819703723          -0.57883370119454           0.72785534836319\"\"\",\n",
    "               format='xyz')"
   ]
  },
  {
   "cell_type": "code",
   "execution_count": null,
   "metadata": {},
   "outputs": [],
   "source": [
    "#! test_display_geometry_widget_and_label_atoms\n",
    "#! fixture: labeled_widget\n",
    "#! with_fixture: ethylene\n",
    "widget = mdt.widgets.GeometryBuilder(ethylene)\n",
    "display(widget)\n",
    "\n",
    "time.sleep(1.0)\n",
    "widget.label_box.value = True\n",
    "time.sleep(1.0)"
   ]
  },
  {
   "cell_type": "code",
   "execution_count": null,
   "metadata": {},
   "outputs": [],
   "source": [
    "#! test_unlabel_atoms\n",
    "#! with_fixture: labeled_widget\n",
    "widget.label_box.value = False\n",
    "display(widget)"
   ]
  },
  {
   "cell_type": "code",
   "execution_count": null,
   "metadata": {},
   "outputs": [],
   "source": [
    "#! test_geometry_viewer_select_atom\n",
    "#! with_fixture: ethylene\n",
    "widget = mdt.widgets.GeometryBuilder(ethylene)\n",
    "widget.viewer.selected_atom_indices = [1]\n",
    "widget"
   ]
  },
  {
   "cell_type": "code",
   "execution_count": null,
   "metadata": {},
   "outputs": [],
   "source": [
    "#! test_geometry_viewer_select_2_atoms\n",
    "#! with_fixture: ethylene\n",
    "widget = mdt.widgets.GeometryBuilder(ethylene)\n",
    "widget.viewer.selected_atom_indices = [0,1]\n",
    "widget"
   ]
  },
  {
   "cell_type": "code",
   "execution_count": null,
   "metadata": {},
   "outputs": [],
   "source": [
    "#! test_reset_geometry\n",
    "#! with_fixture: ethylene\n",
    "initial_positions = ethylene.positions.copy()\n",
    "\n",
    "widget = mdt.widgets.GeometryBuilder(ethylene)\n",
    "widget.viewer.selected_atom_indices = [0,1]\n",
    "widget.dihedral_slider.value += 90.0\n",
    "display(widget)\n",
    "time.sleep(1)\n",
    "\n",
    "assert (ethylene.positions != initial_positions).any()\n",
    "widget.reset_geometry()\n",
    "time.sleep(1)\n",
    "assert (ethylene.positions == initial_positions).all()"
   ]
  },
  {
   "cell_type": "code",
   "execution_count": null,
   "metadata": {},
   "outputs": [],
   "source": []
  }
 ],
 "metadata": {
  "kernelspec": {
   "display_name": "Python 3",
   "language": "python",
   "name": "python3"
  },
  "language_info": {
   "codemirror_mode": {
    "name": "ipython",
    "version": 3
   },
   "file_extension": ".py",
   "mimetype": "text/x-python",
   "name": "python",
   "nbconvert_exporter": "python",
   "pygments_lexer": "ipython3",
   "version": "3.6.1"
  }
 },
 "nbformat": 4,
 "nbformat_minor": 2
}